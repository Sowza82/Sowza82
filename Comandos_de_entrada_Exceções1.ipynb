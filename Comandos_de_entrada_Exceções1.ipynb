{
  "nbformat": 4,
  "nbformat_minor": 0,
  "metadata": {
    "colab": {
      "provenance": [],
      "authorship_tag": "ABX9TyOufGIkay5fv/ST/BxRSahf",
      "include_colab_link": true
    },
    "kernelspec": {
      "name": "python3",
      "display_name": "Python 3"
    },
    "language_info": {
      "name": "python"
    }
  },
  "cells": [
    {
      "cell_type": "markdown",
      "metadata": {
        "id": "view-in-github",
        "colab_type": "text"
      },
      "source": [
        "<a href=\"https://colab.research.google.com/github/Sowza82/Sowza82/blob/main/Comandos_de_entrada_Exce%C3%A7%C3%B5es1.ipynb\" target=\"_parent\"><img src=\"https://colab.research.google.com/assets/colab-badge.svg\" alt=\"Open In Colab\"/></a>"
      ]
    },
    {
      "cell_type": "code",
      "execution_count": 18,
      "metadata": {
        "colab": {
          "base_uri": "https://localhost:8080/"
        },
        "id": "S5elH77RcfF1",
        "outputId": "d2f901eb-5310-4569-dbb0-4991342e359d"
      },
      "outputs": [
        {
          "output_type": "stream",
          "name": "stdout",
          "text": [
            "Escreva um número menor ou igual a 100\n",
            "156\n",
            "O número precisa ser menor ou igual a 100\n",
            "Escreva um número menor ou igual a 100\n",
            "67\n",
            "Boa! Você escolheu o número 67\n"
          ]
        }
      ],
      "source": [
        "def mostrar_numero():\n",
        "    numero_valido = False\n",
        "\n",
        "    while numero_valido == False:\n",
        "        try:\n",
        "            print(\"Escreva um número menor ou igual a 100\")\n",
        "            num = int(input())\n",
        "            if num > 100:\n",
        "                print(\"O número precisa ser menor ou igual a 100\")\n",
        "            else:\n",
        "                print(\"Boa! Você escolheu o número \" + str(num))\n",
        "                numero_valido = True\n",
        "        except ValueError:\n",
        "            print(\"O número inserido deve ser um número inteiro\")\n",
        "\n",
        "mostrar_numero()\n",
        "\n",
        "\n"
      ]
    }
  ]
}