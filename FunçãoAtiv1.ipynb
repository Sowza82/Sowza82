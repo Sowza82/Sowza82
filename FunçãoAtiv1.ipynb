{
  "nbformat": 4,
  "nbformat_minor": 0,
  "metadata": {
    "colab": {
      "provenance": [],
      "authorship_tag": "ABX9TyMg7EHU2tme3OVjhIY1+Jq9",
      "include_colab_link": true
    },
    "kernelspec": {
      "name": "python3",
      "display_name": "Python 3"
    },
    "language_info": {
      "name": "python"
    }
  },
  "cells": [
    {
      "cell_type": "markdown",
      "metadata": {
        "id": "view-in-github",
        "colab_type": "text"
      },
      "source": [
        "<a href=\"https://colab.research.google.com/github/Sowza82/Sowza82/blob/main/Fun%C3%A7%C3%A3oAtiv1.ipynb\" target=\"_parent\"><img src=\"https://colab.research.google.com/assets/colab-badge.svg\" alt=\"Open In Colab\"/></a>"
      ]
    },
    {
      "cell_type": "markdown",
      "source": [
        "# **Função**"
      ],
      "metadata": {
        "id": "HkxA_EGw2cD5"
      }
    },
    {
      "cell_type": "code",
      "source": [
        "def calculadora(num1, num2, operacao):\n",
        "    if operacao == 1:\n",
        "        return num1 + num2\n",
        "    elif operacao == 2:\n",
        "        return num1 - num2\n",
        "    elif operacao == 3:\n",
        "        return num1 * num2\n",
        "    elif operacao == 4 and num2 != 0:\n",
        "        return num1 / num2\n",
        "    else:\n",
        "        print(\"Operação não reconhecida ou divisão por zero. Resultado: 0\")\n",
        "        return 0\n",
        "\n",
        "# Exemplo de uso:\n",
        "num1 = float(input(\"Digite o primeiro número: \"))\n",
        "num2 = float(input(\"Digite o segundo número: \"))\n",
        "operacao = int(input(\"Escolha a operação (1-Soma, 2-Subtração, 3-Multiplicação, 4-Divisão): \"))\n",
        "\n",
        "resultado = calculadora(num1, num2, operacao)\n",
        "print(f\"Resultado da operação: {resultado}\")\n"
      ],
      "metadata": {
        "colab": {
          "base_uri": "https://localhost:8080/"
        },
        "id": "-mLuxDqe26sb",
        "outputId": "ea41ce34-95bc-4cd3-9de3-e6dbb390a3a7"
      },
      "execution_count": 2,
      "outputs": [
        {
          "output_type": "stream",
          "name": "stdout",
          "text": [
            "Digite o primeiro número: 2\n",
            "Digite o segundo número: 4\n",
            "Escolha a operação (1-Soma, 2-Subtração, 3-Multiplicação, 4-Divisão): 1\n",
            "Resultado da operação: 6.0\n"
          ]
        }
      ]
    }
  ]
}