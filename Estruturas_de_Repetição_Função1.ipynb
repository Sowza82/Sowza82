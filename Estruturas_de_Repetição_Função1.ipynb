{
  "nbformat": 4,
  "nbformat_minor": 0,
  "metadata": {
    "colab": {
      "provenance": [],
      "authorship_tag": "ABX9TyPDFgBNv0omuMoOLNGGHrPW",
      "include_colab_link": true
    },
    "kernelspec": {
      "name": "python3",
      "display_name": "Python 3"
    },
    "language_info": {
      "name": "python"
    }
  },
  "cells": [
    {
      "cell_type": "markdown",
      "metadata": {
        "id": "view-in-github",
        "colab_type": "text"
      },
      "source": [
        "<a href=\"https://colab.research.google.com/github/Sowza82/Sowza82/blob/main/Estruturas_de_Repeti%C3%A7%C3%A3o_Fun%C3%A7%C3%A3o1.ipynb\" target=\"_parent\"><img src=\"https://colab.research.google.com/assets/colab-badge.svg\" alt=\"Open In Colab\"/></a>"
      ]
    },
    {
      "cell_type": "code",
      "execution_count": null,
      "metadata": {
        "id": "3_rTxrrC6pz2"
      },
      "outputs": [],
      "source": []
    },
    {
      "cell_type": "markdown",
      "source": [
        "# **Estruturas de Repetição**"
      ],
      "metadata": {
        "id": "nT4y0qJJ6r6e"
      }
    },
    {
      "cell_type": "code",
      "source": [
        "i=0\n",
        "while(i<3):\n",
        "  print(\"Olá mundo\")\n",
        "  i= i + 1\n",
        "\n",
        "for i in range(3):\n",
        "  print(\"Nova frase\")\n",
        ""
      ],
      "metadata": {
        "colab": {
          "base_uri": "https://localhost:8080/"
        },
        "id": "fQ7RmW1Y_DNp",
        "outputId": "56a8c51e-8b05-4d14-f57c-eed4df54e954"
      },
      "execution_count": 5,
      "outputs": [
        {
          "output_type": "stream",
          "name": "stdout",
          "text": [
            "Olá mundo\n",
            "Olá mundo\n",
            "Olá mundo\n",
            "Nova frase\n",
            "Nova frase\n",
            "Nova frase\n"
          ]
        }
      ]
    },
    {
      "cell_type": "code",
      "source": [
        "for i in range(6):\n",
        "  planta_atual=str(i)\n",
        "  print(\"Rega a planta\" + planta_atual)\n",
        ""
      ],
      "metadata": {
        "colab": {
          "base_uri": "https://localhost:8080/"
        },
        "id": "1tFW81Vb_QFA",
        "outputId": "cbad0ac1-8987-4c08-82c1-775e1b855511"
      },
      "execution_count": 8,
      "outputs": [
        {
          "output_type": "stream",
          "name": "stdout",
          "text": [
            "Rega a planta0\n",
            "Rega a planta1\n",
            "Rega a planta2\n",
            "Rega a planta3\n",
            "Rega a planta4\n",
            "Rega a planta5\n"
          ]
        }
      ]
    },
    {
      "cell_type": "markdown",
      "source": [
        "# **Funções**"
      ],
      "metadata": {
        "id": "oOOpKUxmBcyH"
      }
    },
    {
      "cell_type": "code",
      "source": [
        "def escrever_multiplicacao(num1,num2):\n",
        "  multiplicacao = num1 * num2\n",
        "  resultado = str(num1) + \" x \" + str(num2) + \" = \" + str(multiplicacao)\n",
        "  return resultado\n",
        "\n",
        "resposta = escrever_multiplicacao(5,8)\n",
        "print(resposta)"
      ],
      "metadata": {
        "colab": {
          "base_uri": "https://localhost:8080/"
        },
        "id": "iEeLZndJBi5F",
        "outputId": "27fce48b-ac59-4375-88cb-96f90f6ebef0"
      },
      "execution_count": 11,
      "outputs": [
        {
          "output_type": "stream",
          "name": "stdout",
          "text": [
            "5 x 8 = 40\n"
          ]
        }
      ]
    }
  ]
}