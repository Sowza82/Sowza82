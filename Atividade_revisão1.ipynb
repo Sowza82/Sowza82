{
  "nbformat": 4,
  "nbformat_minor": 0,
  "metadata": {
    "colab": {
      "provenance": [],
      "authorship_tag": "ABX9TyNx1o5OK7KE4rlUocXQv8xL",
      "include_colab_link": true
    },
    "kernelspec": {
      "name": "python3",
      "display_name": "Python 3"
    },
    "language_info": {
      "name": "python"
    }
  },
  "cells": [
    {
      "cell_type": "markdown",
      "metadata": {
        "id": "view-in-github",
        "colab_type": "text"
      },
      "source": [
        "<a href=\"https://colab.research.google.com/github/Sowza82/Sowza82/blob/main/Atividade_revis%C3%A3o1.ipynb\" target=\"_parent\"><img src=\"https://colab.research.google.com/assets/colab-badge.svg\" alt=\"Open In Colab\"/></a>"
      ]
    },
    {
      "cell_type": "code",
      "execution_count": 1,
      "metadata": {
        "colab": {
          "base_uri": "https://localhost:8080/"
        },
        "id": "N7dSeXL2txJV",
        "outputId": "712c1965-f997-4f4d-c1db-5e00edd56626"
      },
      "outputs": [
        {
          "output_type": "stream",
          "name": "stdout",
          "text": [
            "Digite seu nome completo:  \n",
            "Digite o ano de nascimento (1922 a 2021):\n",
            
          ]
        }
      ],
      "source": [
        "import datetime\n",
        "\n",
        "def calcular_idade(ano_nascimento):\n",
        "    ano_atual = datetime.datetime.now().year\n",
        "    idade = ano_atual - ano_nascimento\n",
        "    return idade\n",
        "\n",
        "def obter_ano_nascimento():\n",
        "    while True:\n",
        "        try:\n",
        "            ano_nascimento = int(input(\"Digite o ano de nascimento (1922 a 2021): \"))\n",
        "            if 1922 <= ano_nascimento <= 2021:\n",
        "                return ano_nascimento\n",
        "            else:\n",
        "                print(\"Ano fora do intervalo permitido. Tente novamente.\")\n",
        "        except ValueError:\n",
        "            print(\"Por favor, digite um número válido.\")\n",
        "\n",
        "def main():\n",
        "    nome_completo = input(\"Digite seu nome completo: \")\n",
        "\n",
        "    # Laço para obter um ano de nascimento válido\n",
        "    ano_nascimento = obter_ano_nascimento()\n",
        "\n",
        "    idade = calcular_idade(ano_nascimento)\n",
        "\n",
        "    print(f\"\\nNome: {nome_completo}\")\n",
        "    print(f\"Idade em 2022: {idade} anos\")\n",
        "\n",
        "if __name__ == \"__main__\":\n",
        "    main()\n"
      ]
    }
  ]
}
