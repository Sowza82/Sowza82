{
  "nbformat": 4,
  "nbformat_minor": 0,
  "metadata": {
    "colab": {
      "provenance": [],
      "authorship_tag": "ABX9TyP9ek8KC594ISl1GjMN82Gd",
      "include_colab_link": true
    },
    "kernelspec": {
      "name": "python3",
      "display_name": "Python 3"
    },
    "language_info": {
      "name": "python"
    }
  },
  "cells": [
    {
      "cell_type": "markdown",
      "metadata": {
        "id": "view-in-github",
        "colab_type": "text"
      },
      "source": [
        "<a href=\"https://colab.research.google.com/github/Sowza82/Sowza82/blob/main/segunta_atv_arrays3.ipynb\" target=\"_parent\"><img src=\"https://colab.research.google.com/assets/colab-badge.svg\" alt=\"Open In Colab\"/></a>"
      ]
    },
    {
      "cell_type": "code",
      "execution_count": null,
      "metadata": {
        "id": "cmqpcSE4WVYo"
      },
      "outputs": [],
      "source": []
    },
    {
      "cell_type": "markdown",
      "source": [
        "# **arrays atividade2**"
      ],
      "metadata": {
        "id": "kf1NDjwoWaSY"
      }
    },
    {
      "cell_type": "code",
      "source": [
        "\n",
        "lista_musicos = ['Djavan', 'Roberto Carlos', 'Elis Regina', 'Tom Jobim', 'Milton Nascimento', 'Chico Buarque', 'Nara Leão', 'Pitty', 'Simonal', 'Moacir Santos', 'Caetano Veloso', 'Elza Soares', 'Paulinho da Viola', 'Yamandú Costa', 'Gal Costa']\n",
        "\n",
        "\n",
        "print(\"Quantidade de elementos na lista: \", len(lista_musicos))\n",
        "print(\"Dado no índice 2: \", lista_musicos[2])\n",
        "\n",
        "\n",
        "if len(lista_musicos) > 9:\n",
        "    print(\"Dado no índice 9: \", lista_musicos[9])\n",
        "else:\n",
        "    print(\"O índice 9 está fora dos limites da lista.\")\n",
        "\n",
        "if len(lista_musicos) > 14:\n",
        "    print(\"Dado no índice 14: \", lista_musicos[14])\n",
        "else:\n",
        "    print(\"O índice 14 está fora dos limites da lista.\")\n"
      ],
      "metadata": {
        "colab": {
          "base_uri": "https://localhost:8080/"
        },
        "id": "UTo3Pio-WkMB",
        "outputId": "0efd7b56-5571-409f-d199-35ac0a293e25"
      },
      "execution_count": null,
      "outputs": [
        {
          "output_type": "stream",
          "name": "stdout",
          "text": [
            "Quantidade de elementos na lista:  15\n",
            "Dado no índice 2:  Elis Regina\n",
            "Dado no índice 9:  Moacir Santos\n",
            "Dado no índice 14:  Gal Costa\n"
          ]
        }
      ]
    }
  ]
}