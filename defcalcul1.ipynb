{
  "nbformat": 4,
  "nbformat_minor": 0,
  "metadata": {
    "colab": {
      "provenance": [],
      "authorship_tag": "ABX9TyNChVskIu/Hp/a4uv1TWIPf",
      "include_colab_link": true
    },
    "kernelspec": {
      "name": "python3",
      "display_name": "Python 3"
    },
    "language_info": {
      "name": "python"
    }
  },
  "cells": [
    {
      "cell_type": "markdown",
      "metadata": {
        "id": "view-in-github",
        "colab_type": "text"
      },
      "source": [
        "<a href=\"https://colab.research.google.com/github/Sowza82/Sowza82/blob/main/defcalcul1.ipynb\" target=\"_parent\"><img src=\"https://colab.research.google.com/assets/colab-badge.svg\" alt=\"Open In Colab\"/></a>"
      ]
    },
    {
      "cell_type": "markdown",
      "source": [
        "# **Def.Calculadora**"
      ],
      "metadata": {
        "id": "H1tVPyYA3YpX"
      }
    },
    {
      "cell_type": "code",
      "source": [
        "import datetime\n",
        "\n",
        "def calcular_idade(ano_nascimento):\n",
        "    ano_atual = datetime.datetime.now().year\n",
        "    idade = ano_atual - ano_nascimento\n",
        "    return idade\n",
        "\n",
        "def obter_ano_nascimento():\n",
        "    while True:\n",
        "        try:\n",
        "            ano_nascimento = int(input(\"Digite o ano de nascimento (1922 a 2021): \"))\n",
        "            if 1922 <= ano_nascimento <= 2021:\n",
        "                return ano_nascimento\n",
        "            else:\n",
        "                print(\"Ano fora do intervalo permitido. Tente novamente.\")\n",
        "        except ValueError:\n",
        "            print(\"Por favor, digite um número válido.\")\n",
        "\n",
        "def main():\n",
        "    nome_completo = input(\"Digite seu nome completo: \")\n",
        "    ano_nascimento = obter_ano_nascimento()\n",
        "\n",
        "    idade = calcular_idade(ano_nascimento)\n",
        "\n",
        "    print(f\"\\nNome: {nome_completo}\")\n",
        "    print(f\"Idade em 2022: {idade} anos\")\n",
        "\n",
        "if __name__ == \"__main__\":\n",
        "    main()\n"
      ],
      "metadata": {
        "colab": {
          "base_uri": "https://localhost:8080/"
        },
        "id": "GdWk1fpD3gtV",
        "outputId": "c6a11478-a234-41b1-abf9-d4c129f64b24"
      },
      "execution_count": 3,
      "outputs": [
        {
          "output_type": "stream",
          "name": "stdout",
          "text": [
            "Digite seu nome completo: Maria Silva\n",
            "Digite o ano de nascimento (1922 a 2021): 1984\n",
            "\n",
            "Nome: Maria Silva\n",
            "Idade em 2022: 39 anos\n"
          ]
        }
      ]
    }
  ]
}