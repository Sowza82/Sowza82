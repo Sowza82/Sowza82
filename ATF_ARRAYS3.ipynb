{
  "nbformat": 4,
  "nbformat_minor": 0,
  "metadata": {
    "colab": {
      "provenance": [],
      "authorship_tag": "ABX9TyNjNKCMjDVlvhcpMft1t1G9",
      "include_colab_link": true
    },
    "kernelspec": {
      "name": "python3",
      "display_name": "Python 3"
    },
    "language_info": {
      "name": "python"
    }
  },
  "cells": [
    {
      "cell_type": "markdown",
      "metadata": {
        "id": "view-in-github",
        "colab_type": "text"
      },
      "source": [
        "<a href=\"https://colab.research.google.com/github/Sowza82/Sowza82/blob/main/ATF_ARRAYS3.ipynb\" target=\"_parent\"><img src=\"https://colab.research.google.com/assets/colab-badge.svg\" alt=\"Open In Colab\"/></a>"
      ]
    },
    {
      "cell_type": "code",
      "execution_count": null,
      "metadata": {
        "id": "c2WPK2CZfHNW"
      },
      "outputs": [],
      "source": []
    },
    {
      "cell_type": "markdown",
      "source": [
        "# ATIVIDADE **4**\n"
      ],
      "metadata": {
        "id": "-hvsRnytfN84"
      }
    },
    {
      "cell_type": "code",
      "source": [
        "\n",
        "lista_produtos = ['máscaras faciais', 'batons', 'esmaltes', 'perfumes', 'loções', 'xampus', 'sabonetes', 'delineadores']\n",
        "\n",
        "\n",
        "lista_produtos[1] = 'esmaltes'\n",
        "lista_produtos[4] = 'loções'\n",
        "lista_produtos.remove('delineadores')\n",
        "lista_produtos.append('protetor solar')\n",
        "lista_produtos.append('esponjas de maquiagem')\n",
        "\n",
        "\n",
        "print(\"Lista atualizada de produtos:\")\n",
        "for produto in lista_produtos:\n",
        "    print(produto)\n"
      ],
      "metadata": {
        "colab": {
          "base_uri": "https://localhost:8080/"
        },
        "id": "CebkkfhEfY8n",
        "outputId": "fbb84357-bb23-43d4-a85d-951b970732ec"
      },
      "execution_count": 1,
      "outputs": [
        {
          "output_type": "stream",
          "name": "stdout",
          "text": [
            "Lista atualizada de produtos:\n",
            "máscaras faciais\n",
            "esmaltes\n",
            "esmaltes\n",
            "perfumes\n",
            "loções\n",
            "xampus\n",
            "sabonetes\n",
            "protetor solar\n",
            "esponjas de maquiagem\n"
          ]
        }
      ]
    }
  ]
}