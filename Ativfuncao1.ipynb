{
  "nbformat": 4,
  "nbformat_minor": 0,
  "metadata": {
    "colab": {
      "provenance": [],
      "authorship_tag": "ABX9TyOVbPdG9DWzScmPENXLZVkd",
      "include_colab_link": true
    },
    "kernelspec": {
      "name": "python3",
      "display_name": "Python 3"
    },
    "language_info": {
      "name": "python"
    }
  },
  "cells": [
    {
      "cell_type": "markdown",
      "metadata": {
        "id": "view-in-github",
        "colab_type": "text"
      },
      "source": [
        "<a href=\"https://colab.research.google.com/github/Sowza82/Sowza82/blob/main/Ativfuncao1.ipynb\" target=\"_parent\"><img src=\"https://colab.research.google.com/assets/colab-badge.svg\" alt=\"Open In Colab\"/></a>"
      ]
    },
    {
      "cell_type": "markdown",
      "source": [
        "# **Função**"
      ],
      "metadata": {
        "id": "hk2tNQHtz_ld"
      }
    },
    {
      "cell_type": "code",
      "execution_count": 3,
      "metadata": {
        "id": "aNmH1dI2zxZs"
      },
      "outputs": [],
      "source": [
        "def calculadora(num1, num2, operacao):\n",
        "    if operacao == 1:\n",
        "        resultado = num1 + num2\n",
        "    elif operacao == 2:\n",
        "        resultado = num1 - num2\n",
        "    elif operacao == 3:\n",
        "        resultado = num1 * num2\n",
        "    elif operacao == 4:\n",
        "        # Verifica se o divisor é zero para evitar divisão por zero\n",
        "        if num2 != 0:\n",
        "            resultado = num1 / num2\n",
        "        else:\n",
        "            print(\"Erro: Divisão por zero.\")\n",
        "            resultado = 0\n",
        "    else:\n",
        "        print(\"Operação não reconhecida. Escolha um número de 1 a 4.\")\n",
        "        resultado = 0\n",
        "\n",
        "    return resultado"
      ]
    }
  ]
}