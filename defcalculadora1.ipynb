{
  "nbformat": 4,
  "nbformat_minor": 0,
  "metadata": {
    "colab": {
      "provenance": [],
      "authorship_tag": "ABX9TyM2yJzSAOVcI6uXv0frX677",
      "include_colab_link": true
    },
    "kernelspec": {
      "name": "python3",
      "display_name": "Python 3"
    },
    "language_info": {
      "name": "python"
    }
  },
  "cells": [
    {
      "cell_type": "markdown",
      "metadata": {
        "id": "view-in-github",
        "colab_type": "text"
      },
      "source": [
        "<a href=\"https://colab.research.google.com/github/Sowza82/Sowza82/blob/main/defcalculadora1.ipynb\" target=\"_parent\"><img src=\"https://colab.research.google.com/assets/colab-badge.svg\" alt=\"Open In Colab\"/></a>"
      ]
    },
    {
      "cell_type": "code",
      "execution_count": null,
      "metadata": {
        "id": "34vkUeFSi03r"
      },
      "outputs": [],
      "source": []
    },
    {
      "cell_type": "markdown",
      "source": [
        "# **Calculadora**"
      ],
      "metadata": {
        "id": "ZuZbcOhbi9eA"
      }
    },
    {
      "cell_type": "code",
      "source": [
        "def calculadora():\n",
        "    while True:\n",
        "        print(\"Operações disponíveis:\")\n",
        "        print(\"1: Soma\")\n",
        "        print(\"2: Subtração\")\n",
        "        print(\"3: Multiplicação\")\n",
        "        print(\"4: Divisão\")\n",
        "        print(\"0: Sair\")\n",
        "\n",
        "        escolha = input(\"Digite o número da operação desejada: \")\n",
        "\n",
        "        if escolha == '0':\n",
        "            print(\"Saindo da calculadora. Até logo!\")\n",
        "            break\n",
        "        elif escolha in ('1', '2', '3', '4'):\n",
        "            try:\n",
        "                num1 = float(input(\"Digite o primeiro valor: \"))\n",
        "                num2 = float(input(\"Digite o segundo valor: \"))\n",
        "            except ValueError:\n",
        "                print(\"Por favor, insira valores numéricos válidos.\")\n",
        "                continue\n",
        "\n",
        "            if escolha == '1':\n",
        "                resultado = num1 + num2\n",
        "                operacao = 'Soma'\n",
        "            elif escolha == '2':\n",
        "                resultado = num1 - num2\n",
        "                operacao = 'Subtração'\n",
        "            elif escolha == '3':\n",
        "                resultado = num1 * num2\n",
        "                operacao = 'Multiplicação'\n",
        "            elif escolha == '4':\n",
        "                if num2 != 0:\n",
        "                    resultado = num1 / num2\n",
        "                    operacao = 'Divisão'\n",
        "                else:\n",
        "                    print(\"Erro: Divisão por zero não permitida.\")\n",
        "                    continue\n",
        "\n",
        "            print(f\"Resultado da {operacao}: {resultado}\")\n",
        "        else:\n",
        "            print(\"Essa opção não existe.\")\n",
        "\n",
        "if __name__ == \"__main__\":\n",
        "    calculadora()\n"
      ],
      "metadata": {
        "colab": {
          "base_uri": "https://localhost:8080/"
        },
        "id": "kbEV-ef6jHm0",
        "outputId": "0bf0a6f8-ac4b-4dbf-e241-68ae6466390b"
      },
      "execution_count": null,
      "outputs": [
        {
          "output_type": "stream",
          "name": "stdout",
          "text": [
            "Operações disponíveis:\n",
            "1: Soma\n",
            "2: Subtração\n",
            "3: Multiplicação\n",
            "4: Divisão\n",
            "0: Sair\n"
          ]
        }
      ]
    }
  ]
}