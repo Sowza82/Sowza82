{
  "nbformat": 4,
  "nbformat_minor": 0,
  "metadata": {
    "colab": {
      "provenance": [],
      "authorship_tag": "ABX9TyPuQgZ9H+fKsl1gkgZU5A99",
      "include_colab_link": true
    },
    "kernelspec": {
      "name": "python3",
      "display_name": "Python 3"
    },
    "language_info": {
      "name": "python"
    }
  },
  "cells": [
    {
      "cell_type": "markdown",
      "metadata": {
        "id": "view-in-github",
        "colab_type": "text"
      },
      "source": [
        "<a href=\"https://colab.research.google.com/github/Sowza82/Sowza82/blob/main/Arrays3.ipynb\" target=\"_parent\"><img src=\"https://colab.research.google.com/assets/colab-badge.svg\" alt=\"Open In Colab\"/></a>"
      ]
    },
    {
      "cell_type": "code",
      "execution_count": null,
      "metadata": {
        "id": "Gzyfpei7M0y5"
      },
      "outputs": [],
      "source": []
    },
    {
      "cell_type": "markdown",
      "source": [
        "Declarando arrays\n",
        "# Nova seção"
      ],
      "metadata": {
        "id": "rWcYM-MZQRtF"
      }
    },
    {
      "cell_type": "code",
      "source": [
        "\n",
        "produtos_alimenticios = [\"Açúcar\", \"Feijão\", \"Farinha\", \"Óleo de Cozinha\", \"Molho de tomate\"]\n",
        "\n",
        "\n",
        "anos_nascimento = [1996, 1982, 1957, 1958, 2006]\n",
        "\n",
        "\n",
        "print(\"Produtos da Loja de Alimentos:\")\n",
        "print(produtos_alimenticios)\n",
        "\n",
        "print(\"\\nAnos de Nascimento de Familiares e Amigos:\")\n",
        "print(anos_nascimento)\n"
      ],
      "metadata": {
        "colab": {
          "base_uri": "https://localhost:8080/"
        },
        "id": "vFi4ydMQM4ZL",
        "outputId": "91b9229a-a621-4a3a-ffa2-c31df1fc2b4b"
      },
      "execution_count": 1,
      "outputs": [
        {
          "output_type": "stream",
          "name": "stdout",
          "text": [
            "Produtos da Loja de Alimentos:\n",
            "['Açúcar', 'Feijão', 'Farinha', 'Óleo de Cozinha', 'Molho de tomate']\n",
            "\n",
            "Anos de Nascimento de Familiares e Amigos:\n",
            "[1996, 1982, 1957, 1958, 2006]\n"
          ]
        }
      ]
    }
  ]
}