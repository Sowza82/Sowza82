{
  "nbformat": 4,
  "nbformat_minor": 0,
  "metadata": {
    "colab": {
      "provenance": [],
      "authorship_tag": "ABX9TyPM/wUW9DmvNmWX55Nfp2U9",
      "include_colab_link": true
    },
    "kernelspec": {
      "name": "python3",
      "display_name": "Python 3"
    },
    "language_info": {
      "name": "python"
    }
  },
  "cells": [
    {
      "cell_type": "markdown",
      "metadata": {
        "id": "view-in-github",
        "colab_type": "text"
      },
      "source": [
        "<a href=\"https://colab.research.google.com/github/Sowza82/Sowza82/blob/main/Primeira_aula_de_python.ipynb\" target=\"_parent\"><img src=\"https://colab.research.google.com/assets/colab-badge.svg\" alt=\"Open In Colab\"/></a>"
      ]
    },
    {
      "cell_type": "markdown",
      "source": [],
      "metadata": {
        "id": "2KNvFR1UAk-v"
      }
    },
    {
      "cell_type": "markdown",
      "source": [
        "# **Variáveis**\n",
        "\n"
      ],
      "metadata": {
        "id": "-3-7_u9wBUhp"
      }
    },
    {
      "cell_type": "code",
      "source": [
        "numero = 5\n",
        "print(numero)\n",
        "print(type(numero))"
      ],
      "metadata": {
        "colab": {
          "base_uri": "https://localhost:8080/"
        },
        "id": "ansV38PiA-JK",
        "outputId": "d456e79d-a528-4c39-8488-8a7ebfca6332"
      },
      "execution_count": 6,
      "outputs": [
        {
          "output_type": "stream",
          "name": "stdout",
          "text": [
            "5\n",
            "<class 'int'>\n"
          ]
        }
      ]
    },
    {
      "cell_type": "code",
      "source": [
        "bebida_favorita =\"Guaraná\"\n",
        "print(bebida_favorita)\n",
        "print(type(bebida_favorita))\n",
        "\n",
        "bebida_preco =5.99\n",
        "print(bebida_preco)\n",
        "print(type(bebida_preco))\n",
        "\n",
        "bebida_alcoolica = False\n",
        "print(bebida_alcoolica)\n",
        "print(type(bebida_alcoolica))"
      ],
      "metadata": {
        "colab": {
          "base_uri": "https://localhost:8080/"
        },
        "id": "dwgN5xzqDUwV",
        "outputId": "eadddc7d-467d-4582-97b4-972deab4732a"
      },
      "execution_count": 12,
      "outputs": [
        {
          "output_type": "stream",
          "name": "stdout",
          "text": [
            "Guaraná\n",
            "<class 'str'>\n",
            "5.99\n",
            "<class 'float'>\n",
            "False\n",
            "<class 'bool'>\n"
          ]
        }
      ]
    },
    {
      "cell_type": "markdown",
      "source": [
        "# **Operadores Aritméticos**\n"
      ],
      "metadata": {
        "id": "OLBhNKpQGS_k"
      }
    },
    {
      "cell_type": "code",
      "source": [
        "almoco_favorito =\"Feijoada\"\n",
        "almoco_preco=34.99\n",
        "\n",
        "total=almoco_preco + bebida_preco\n",
        "print(total)\n",
        "\n",
        "sobremesa_favorita =\"Churros\"\n",
        "sobremesa_preco = 18.99\n",
        "convidados = 4\n",
        "\n",
        "novo_total = (almoco_preco * 4) +(bebida_preco * 3) + (sobremesa_preco * 2)\n",
        "print(novo_total)\n",
        "\n",
        "valor_por_pessoa = novo_total/convidados\n",
        "print(valor_por_pessoa)\n",
        "\n"
      ],
      "metadata": {
        "colab": {
          "base_uri": "https://localhost:8080/"
        },
        "id": "2h-PM0MsJK8Q",
        "outputId": "3faf2433-9cd5-4c54-c4a8-8d0043bff921"
      },
      "execution_count": 28,
      "outputs": [
        {
          "output_type": "stream",
          "name": "stdout",
          "text": [
            "40.980000000000004\n",
            "195.91\n",
            "48.9775\n"
          ]
        }
      ]
    },
    {
      "cell_type": "markdown",
      "source": [
        "# **Operadores Relacionais**"
      ],
      "metadata": {
        "id": "40KfY6hnM3DU"
      }
    },
    {
      "cell_type": "code",
      "source": [
        "booleano =False\n",
        "\n",
        "print (booleano != True)"
      ],
      "metadata": {
        "colab": {
          "base_uri": "https://localhost:8080/"
        },
        "id": "XgHcJhlfM_CA",
        "outputId": "537ddcff-3620-4827-cd35-799020817b83"
      },
      "execution_count": 27,
      "outputs": [
        {
          "output_type": "stream",
          "name": "stdout",
          "text": [
            "True\n"
          ]
        }
      ]
    },
    {
      "cell_type": "markdown",
      "source": [
        "# **Estruturas Condicionais**"
      ],
      "metadata": {
        "id": "Rm3TUhqaPco4"
      }
    },
    {
      "cell_type": "markdown",
      "source": [],
      "metadata": {
        "id": "Ee_6k-8hA3A-"
      }
    },
    {
      "cell_type": "code",
      "source": [
        "orcamento =30\n",
        "bom_amigo = False\n",
        "if(orcamento >= valor_por_pessoa):\n",
        "  print(\"Consigo pagar\")\n",
        "elif(bom_amigo==True):\n",
        "  print(\"Obrigado por me ajudar a pagar\")\n",
        "\n",
        "else:\n",
        "  print(\"Pedir ajudar a outro amigo\")"
      ],
      "metadata": {
        "colab": {
          "base_uri": "https://localhost:8080/"
        },
        "id": "_HRYH7oqPnWT",
        "outputId": "b360b828-d6b1-4ce2-d13b-05f29280007e"
      },
      "execution_count": 33,
      "outputs": [
        {
          "output_type": "stream",
          "name": "stdout",
          "text": [
            "Pedir ajudar a outro amigo\n"
          ]
        }
      ]
    }
  ]
}